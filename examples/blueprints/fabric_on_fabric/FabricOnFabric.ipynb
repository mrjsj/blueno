{
 "cells": [
  {
   "cell_type": "code",
   "execution_count": null,
   "id": "1fa12eb5",
   "metadata": {},
   "outputs": [],
   "source": [
    "!pip install blueno"
   ]
  },
  {
   "cell_type": "code",
   "execution_count": null,
   "id": "01098e46",
   "metadata": {},
   "outputs": [],
   "source": [
    "from blueno import blueprint, Blueprint, DataFrameType,job_registry, create_pipeline\n"
   ]
  },
  {
   "cell_type": "code",
   "execution_count": null,
   "id": "00039747",
   "metadata": {},
   "outputs": [],
   "source": [
    "import random\n",
    "import time\n",
    "\n",
    "import polars as pl\n",
    "\n",
    "\n",
    "RAND_SIZE = 10\n",
    "base_path = \"/lakehouse/default/Tables\""
   ]
  },
  {
   "cell_type": "code",
   "execution_count": null,
   "id": "55aa0549",
   "metadata": {},
   "outputs": [],
   "source": [
    "@blueprint(table_uri=f\"{base_path}/bronze/products\")\n",
    "def bronze_products() -> DataFrameType:\n",
    "    df = pl.DataFrame(\n",
    "        {\n",
    "            \"product_id\": [1, 2, 3],\n",
    "            \"product_name\": [\"ball\", \"bat\", \"tent\"],\n",
    "            \"price\": [4.99, 9.99, 29.99],\n",
    "        }\n",
    "    )\n",
    "\n",
    "    time.sleep(random.random() * 2)\n",
    "\n",
    "    return df"
   ]
  },
  {
   "cell_type": "code",
   "execution_count": null,
   "id": "d1c94de6",
   "metadata": {},
   "outputs": [],
   "source": [
    "@blueprint(\n",
    "    table_uri=f\"{base_path}/silver/products\",\n",
    "    primary_keys=[\"product_id\"],\n",
    ")\n",
    "def silver_products(self: Blueprint, bronze_products: DataFrameType) -> DataFrameType:\n",
    "    df = bronze_products.unique(subset=self.primary_keys)\n",
    "    time.sleep(random.random() * RAND_SIZE)\n",
    "\n",
    "    return df"
   ]
  },
  {
   "cell_type": "code",
   "execution_count": null,
   "id": "9c4b2548",
   "metadata": {},
   "outputs": [],
   "source": [
    "@blueprint(\n",
    "    table_uri=f\"{base_path}/gold/products\",\n",
    "    primary_keys=[\"product_id\"],\n",
    ")\n",
    "def gold_products(self: Blueprint, silver_products: DataFrameType) -> DataFrameType:\n",
    "    df = silver_products.filter(pl.col(\"product_id\").is_not_null())\n",
    "\n",
    "    return df"
   ]
  },
  {
   "cell_type": "code",
   "execution_count": null,
   "id": "382e299c",
   "metadata": {},
   "outputs": [],
   "source": [
    "tasks = create_pipeline(job_registry.jobs.values())"
   ]
  },
  {
   "cell_type": "code",
   "execution_count": null,
   "id": "6568c617",
   "metadata": {},
   "outputs": [],
   "source": [
    "job_registry.run(activities=tasks, concurrency=1)"
   ]
  }
 ],
 "metadata": {
  "dependencies": {
   "lakehouse": {}
  },
  "kernel_info": {
   "jupyter_kernel_name": "python3.11",
   "name": "jupyter"
  },
  "kernelspec": {
   "display_name": "Jupyter",
   "language": "Jupyter",
   "name": "jupyter"
  },
  "language_info": {
   "name": "python"
  },
  "microsoft": {
   "language": "python",
   "language_group": "jupyter_python",
   "ms_spell_check": {
    "ms_spell_check_language": "en"
   }
  },
  "nteract": {
   "version": "nteract-front-end@1.0.0"
  },
  "spark_compute": {
   "compute_id": "/trident/default",
   "session_options": {
    "conf": {
     "spark.synapse.nbs.session.timeout": "1200000"
    }
   }
  }
 },
 "nbformat": 4,
 "nbformat_minor": 5
}
