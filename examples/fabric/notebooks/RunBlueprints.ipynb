{
 "cells": [
  {
   "cell_type": "markdown",
   "id": "f2b5cefd",
   "metadata": {},
   "source": [
    "# RunBlueprints\n",
    "This notebook is an entrypoint for the CLI command\n",
    "```sh\n",
    "blueno run-remote \n",
    "```\n",
    "\n",
    "See: https://mrjsj.github.io/blueno/usage/blueprints/remote-execution/\n",
    "\n",
    "Make sure to set the correct version of blueno in the cells below!"
   ]
  },
  {
   "cell_type": "code",
   "execution_count": null,
   "id": "768f261e-9a37-4b41-a813-8a6457092fc3",
   "metadata": {
    "microsoft": {
     "language": "python",
     "language_group": "jupyter_python"
    },
    "tags": [
     "parameters"
    ]
   },
   "outputs": [],
   "source": [
    "# Parameters cell\n",
    "project_dir: str = None\n",
    "concurrency: int = None\n",
    "log_level: str = None\n",
    "select: str = None"
   ]
  },
  {
   "cell_type": "code",
   "execution_count": null,
   "id": "23b2435d",
   "metadata": {},
   "outputs": [],
   "source": [
    "!pip install blueno==X.X.X"
   ]
  },
  {
   "cell_type": "code",
   "execution_count": null,
   "id": "b5e70108",
   "metadata": {},
   "outputs": [],
   "source": [
    "tmp_project_dir = f\"/tmp/{project_dir}\""
   ]
  },
  {
   "cell_type": "code",
   "execution_count": null,
   "id": "ca5d1a07",
   "metadata": {},
   "outputs": [],
   "source": [
    "!mkdir --parents {tmp_project_dir}\n",
    "!mv /lakehouse/default/Files/{project_dir} {tmp_project_dir}"
   ]
  },
  {
   "cell_type": "code",
   "execution_count": null,
   "id": "e9735e0b",
   "metadata": {},
   "outputs": [],
   "source": [
    "from blueno.cli import run"
   ]
  },
  {
   "cell_type": "code",
   "execution_count": null,
   "id": "6347e8e2",
   "metadata": {},
   "outputs": [],
   "source": [
    "import os\n",
    "os.chdir(tmp_project_dir)\n",
    "run(\n",
    "    project_dir=\".\",\n",
    "    select=select.split(\";\"),\n",
    "    display_mode=\"log\",\n",
    "    concurrency=concurrency,\n",
    "    log_level=log_level,\n",
    "    show_dag=False,\n",
    ")"
   ]
  }
 ],
 "metadata": {
  "dependencies": {},
  "kernel_info": {
   "jupyter_kernel_name": "python3.11",
   "name": "jupyter"
  },
  "kernelspec": {
   "display_name": "Jupyter",
   "language": "Jupyter",
   "name": "jupyter"
  },
  "language_info": {
   "name": "python"
  },
  "microsoft": {
   "language": "python",
   "language_group": "jupyter_python",
   "ms_spell_check": {
    "ms_spell_check_language": "en"
   }
  },
  "nteract": {
   "version": "nteract-front-end@1.0.0"
  },
  "spark_compute": {
   "compute_id": "/trident/default",
   "session_options": {
    "conf": {
     "spark.synapse.nbs.session.timeout": "1200000"
    }
   }
  }
 },
 "nbformat": 4,
 "nbformat_minor": 5
}
